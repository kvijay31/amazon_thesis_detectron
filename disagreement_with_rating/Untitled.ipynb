{
 "cells": [
  {
   "cell_type": "code",
   "execution_count": 1,
   "id": "8a35cb58",
   "metadata": {},
   "outputs": [],
   "source": [
    "import shutil \n",
    "import zipfile as zf\n"
   ]
  },
  {
   "cell_type": "code",
   "execution_count": 3,
   "id": "714b7a5d",
   "metadata": {},
   "outputs": [
    {
     "data": {
      "text/plain": [
       "'/home/ec2-user/SageMaker/Kartik_Amazon_Thesis/disagreement_with_rating/disagreement_with_ratings_kvj_test.zip'"
      ]
     },
     "execution_count": 3,
     "metadata": {},
     "output_type": "execute_result"
    }
   ],
   "source": [
    "shutil.make_archive('disagreement_with_ratings_kvj_test', 'zip', 'disagreement_with_ratings_v1')"
   ]
  },
  {
   "cell_type": "code",
   "execution_count": null,
   "id": "40032f3c",
   "metadata": {},
   "outputs": [],
   "source": []
  }
 ],
 "metadata": {
  "kernelspec": {
   "display_name": "conda_python3",
   "language": "python",
   "name": "conda_python3"
  },
  "language_info": {
   "codemirror_mode": {
    "name": "ipython",
    "version": 3
   },
   "file_extension": ".py",
   "mimetype": "text/x-python",
   "name": "python",
   "nbconvert_exporter": "python",
   "pygments_lexer": "ipython3",
   "version": "3.10.8"
  }
 },
 "nbformat": 4,
 "nbformat_minor": 5
}
