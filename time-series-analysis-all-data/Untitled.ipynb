{
 "cells": [
  {
   "cell_type": "code",
   "execution_count": 1,
   "id": "1186256d",
   "metadata": {},
   "outputs": [],
   "source": [
    "import pandas as pd"
   ]
  },
  {
   "cell_type": "code",
   "execution_count": 2,
   "id": "ab6256eb",
   "metadata": {},
   "outputs": [
    {
     "data": {
      "text/plain": [
       "(144173, 8)"
      ]
     },
     "execution_count": 2,
     "metadata": {},
     "output_type": "execute_result"
    }
   ],
   "source": [
    "df = pd.read_json('amazon_reviews_office_0.json.json_predicted.json')\n",
    "df.shape"
   ]
  },
  {
   "cell_type": "code",
   "execution_count": 14,
   "id": "40963d00",
   "metadata": {},
   "outputs": [
    {
     "data": {
      "text/plain": [
       "'I give a 0 star rating on this product. First time using the pens and they are already dried out.'"
      ]
     },
     "execution_count": 14,
     "metadata": {},
     "output_type": "execute_result"
    }
   ],
   "source": [
    "df[df['zero_stars']==1].review_body.iloc[40]"
   ]
  },
  {
   "cell_type": "code",
   "execution_count": 20,
   "id": "117412c6",
   "metadata": {},
   "outputs": [
    {
     "data": {
      "text/plain": [
       "'I’m so disappointed that they are ugly pastel colors and they are really cheep quality. I wanted primary colors and thought that I was getting something worth the money that I spent.I started a return only to find out that to return them, I would have to pay the postage. Amazon should not do business with this company. The product is awful. Now I am stuck with an over priced item that my students will break in days. Wasn’t worth the hassle to try to pay to send them back.I would give zero stars if I could.'"
      ]
     },
     "execution_count": 20,
     "metadata": {},
     "output_type": "execute_result"
    }
   ],
   "source": [
    "df[df['zero_stars']==1].review_body.iloc[315]"
   ]
  },
  {
   "cell_type": "code",
   "execution_count": null,
   "id": "901f4cee",
   "metadata": {},
   "outputs": [],
   "source": []
  }
 ],
 "metadata": {
  "kernelspec": {
   "display_name": "conda_python3",
   "language": "python",
   "name": "conda_python3"
  },
  "language_info": {
   "codemirror_mode": {
    "name": "ipython",
    "version": 3
   },
   "file_extension": ".py",
   "mimetype": "text/x-python",
   "name": "python",
   "nbconvert_exporter": "python",
   "pygments_lexer": "ipython3",
   "version": "3.10.8"
  }
 },
 "nbformat": 4,
 "nbformat_minor": 5
}
